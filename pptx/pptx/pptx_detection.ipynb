{
 "cells": [
  {
   "cell_type": "code",
   "execution_count": 1,
   "id": "30d9652b",
   "metadata": {},
   "outputs": [],
   "source": [
    "import numpy as np\n",
    "import cv2\n",
    "import matplotlib.pyplot as plt\n",
    "%matplotlib inline"
   ]
  },
  {
   "cell_type": "code",
   "execution_count": 2,
   "id": "41a8fb0d",
   "metadata": {},
   "outputs": [
    {
     "data": {
      "text/plain": [
       "4"
      ]
     },
     "execution_count": 2,
     "metadata": {},
     "output_type": "execute_result"
    }
   ],
   "source": [
    "import language_tool_python\n",
    "tool = language_tool_python.LanguageTool('en-US')\n",
    "\n",
    "text = \"Your the best but their are allso  good!\"\n",
    "matches = tool.check(text)\n",
    "len(matches)"
   ]
  },
  {
   "cell_type": "code",
   "execution_count": 3,
   "id": "ef7a3c3e",
   "metadata": {},
   "outputs": [
    {
     "name": "stdout",
     "output_type": "stream",
     "text": [
      "1\n",
      "2\n",
      "img/image000.png\n",
      "img/image001.png\n",
      "img/image002.png\n",
      "img/image003.png\n",
      "img/image004.png\n",
      "3\n",
      "4\n",
      "img/image005.jpg\n"
     ]
    },
    {
     "data": {
      "text/plain": [
       "[[],\n",
       " ['img/image000.png',\n",
       "  'img/image001.png',\n",
       "  'img/image002.png',\n",
       "  'img/image003.png',\n",
       "  'img/image004.png'],\n",
       " [],\n",
       " ['img/image005.jpg']]"
      ]
     },
     "execution_count": 3,
     "metadata": {},
     "output_type": "execute_result"
    }
   ],
   "source": [
    "from pptx import Presentation\n",
    "from pptx.enum.shapes import MSO_SHAPE_TYPE\n",
    "\n",
    "n=0\n",
    "i=0\n",
    "filename = 'test.pptx'\n",
    "images=[]\n",
    "page=[]\n",
    "def write_image(shape):\n",
    "    global n,i\n",
    "    image = shape.image\n",
    "    # ---get image \"file\" contents---\n",
    "    image_bytes = image.blob\n",
    "    # ---make up a name for the file, e.g. 'image.jpg'---\n",
    "    image_filename = 'img/image{:03d}.{}'.format(n, image.ext)\n",
    "    n += 1\n",
    "    print(image_filename)\n",
    "    page.append(image_filename)\n",
    "    with open(image_filename, 'wb') as f:\n",
    "        f.write(image_bytes)\n",
    "\n",
    "def visitor(shape):\n",
    "    if shape.shape_type == MSO_SHAPE_TYPE.GROUP:\n",
    "        for s in shape.shapes:\n",
    "            visitor(s)\n",
    "    if shape.shape_type == MSO_SHAPE_TYPE.PICTURE:\n",
    "        write_image(shape)\n",
    "\n",
    "def iter_picture_shapes(prs):\n",
    "    global i,page\n",
    "    for slide in prs.slides:\n",
    "        page=[]\n",
    "        i+=1\n",
    "        print(i)\n",
    "        for shape in slide.shapes:\n",
    "            visitor(shape)\n",
    "        images.append(page)\n",
    "\n",
    "iter_picture_shapes(Presentation(filename))\n",
    "images"
   ]
  },
  {
   "cell_type": "code",
   "execution_count": 4,
   "id": "d528258d",
   "metadata": {},
   "outputs": [
    {
     "data": {
      "text/plain": [
       "[['Project Speed Cycles Sri Lanka', 'Hero Experience Agency'],\n",
       " ['Our Team'],\n",
       " ['Purpose',\n",
       "  '- ',\n",
       "  'to find out issues with the current website and ',\n",
       "  '- to provide recommendations',\n",
       "  ' in order to rebuild the website to ',\n",
       "  'increase sales',\n",
       "  ' through the website '],\n",
       " ['There is cats']]"
      ]
     },
     "execution_count": 4,
     "metadata": {},
     "output_type": "execute_result"
    }
   ],
   "source": [
    "from pptx import Presentation\n",
    "\n",
    "prs = Presentation(filename)\n",
    "\n",
    "# text_runs will be populated with a list of strings,\n",
    "# one for each text run in presentation\n",
    "text_runs = []\n",
    "# i=0\n",
    "for slide in prs.slides:\n",
    "#     i+=1\n",
    "#     print(i)\n",
    "    text1=[]\n",
    "    for shape in slide.shapes:\n",
    "        \n",
    "        \n",
    "        if not shape.has_text_frame:\n",
    "            continue\n",
    "        for paragraph in shape.text_frame.paragraphs:\n",
    "            for run in paragraph.runs:\n",
    "                text1.append(run.text)\n",
    "    text_runs.append(text1)\n",
    "text_runs"
   ]
  },
  {
   "cell_type": "code",
   "execution_count": 5,
   "id": "1017a7d1",
   "metadata": {
    "scrolled": true
   },
   "outputs": [
    {
     "name": "stdout",
     "output_type": "stream",
     "text": [
      "Project Speed Cycles Sri Lanka\n",
      "[]\n",
      "Hero Experience Agency\n",
      "[]\n",
      "Our Team\n",
      "[]\n",
      "img/image000.png\n",
      "Not Blurry 1298.8642254950346\n",
      "img/image001.png\n",
      "Not Blurry 1490.0164488611354\n",
      "img/image002.png\n",
      "Not Blurry 1504.4147008202476\n",
      "img/image003.png\n",
      "Not Blurry 2057.951858730446\n",
      "img/image004.png\n",
      "Not Blurry 1810.5483755674986\n",
      "Purpose\n",
      "[]\n",
      "- \n",
      "[Match({'ruleId': 'DASH_RULE', 'message': 'Consider using an m-dash in dialogues and enumerations.', 'replacements': ['—'], 'offsetInContext': 0, 'context': '- ', 'offset': 0, 'errorLength': 1, 'category': 'PUNCTUATION', 'ruleIssueType': 'typographical', 'sentence': '-'})]\n",
      "to find out issues with the current website and \n",
      "[Match({'ruleId': 'UPPERCASE_SENTENCE_START', 'message': 'This sentence does not start with an uppercase letter.', 'replacements': ['To'], 'offsetInContext': 0, 'context': 'to find out issues with the current websit...', 'offset': 0, 'errorLength': 2, 'category': 'CASING', 'ruleIssueType': 'typographical', 'sentence': 'to find out issues with the current website and'})]\n",
      "- to provide recommendations\n",
      "[Match({'ruleId': 'DASH_RULE', 'message': 'Consider using an m-dash in dialogues and enumerations.', 'replacements': ['—'], 'offsetInContext': 0, 'context': '- to provide recommendations', 'offset': 0, 'errorLength': 1, 'category': 'PUNCTUATION', 'ruleIssueType': 'typographical', 'sentence': '- to provide recommendations'})]\n",
      " in order to rebuild the website to \n",
      "[Match({'ruleId': 'UPPERCASE_SENTENCE_START', 'message': 'This sentence does not start with an uppercase letter.', 'replacements': ['In'], 'offsetInContext': 1, 'context': ' in order to rebuild the website to ', 'offset': 1, 'errorLength': 2, 'category': 'CASING', 'ruleIssueType': 'typographical', 'sentence': 'in order to rebuild the website to'})]\n",
      "increase sales\n",
      "[Match({'ruleId': 'UPPERCASE_SENTENCE_START', 'message': 'This sentence does not start with an uppercase letter.', 'replacements': ['Increase'], 'offsetInContext': 0, 'context': 'increase sales', 'offset': 0, 'errorLength': 8, 'category': 'CASING', 'ruleIssueType': 'typographical', 'sentence': 'increase sales'})]\n",
      " through the website \n",
      "[Match({'ruleId': 'UPPERCASE_SENTENCE_START', 'message': 'This sentence does not start with an uppercase letter.', 'replacements': ['Through'], 'offsetInContext': 1, 'context': ' through the website ', 'offset': 1, 'errorLength': 7, 'category': 'CASING', 'ruleIssueType': 'typographical', 'sentence': 'through the website'})]\n",
      "There is cats\n",
      "[Match({'ruleId': 'THERE_S_MANY', 'message': 'Did you mean “There are cats”?', 'replacements': ['There are cats'], 'offsetInContext': 0, 'context': 'There is cats', 'offset': 0, 'errorLength': 13, 'category': 'GRAMMAR', 'ruleIssueType': 'grammar', 'sentence': 'There is cats'})]\n",
      "img/image005.jpg\n",
      "Blurry 18.57491369641204\n"
     ]
    }
   ],
   "source": [
    "laplacian=0\n",
    "for x ,y in zip(text_runs,images):\n",
    "#     print(x,y)\n",
    "    for k in x:\n",
    "        print(k)\n",
    "        print(tool.check(k))\n",
    "    for k in y:\n",
    "        print(k)\n",
    "        img = cv2.imread(k) \n",
    "        gray = cv2.cvtColor(img, cv2.COLOR_BGR2GRAY)\n",
    "        laplacian=cv2.Laplacian(gray, cv2.CV_64F)\n",
    "        fm=laplacian.var()\n",
    "        result = \"Not Blurry\"\n",
    "\n",
    "        if fm < 100:\n",
    "            result = \"Blurry\"\n",
    "        print(result,fm)"
   ]
  },
  {
   "cell_type": "code",
   "execution_count": 7,
   "id": "4ff141e1",
   "metadata": {},
   "outputs": [
    {
     "data": {
      "image/png": "[encoded data removed]",
      "text/plain": [
       "<Figure size 432x288 with 2 Axes>"
      ]
     },
     "metadata": {},
     "output_type": "display_data"
    }
   ],
   "source": [
    "sobelx = cv2.Sobel(img,cv2.CV_64F,1,0,ksize=5)  # x\n",
    "sobely = cv2.Sobel(img,cv2.CV_64F,0,1,ksize=5)  # y\n",
    "\n",
    "plt.subplot(2,2,1),plt.imshow(img,cmap = 'gray')\n",
    "plt.title('Original'), plt.xticks([]), plt.yticks([])\n",
    "plt.subplot(2,2,2),plt.imshow(laplacian,cmap = 'gray')\n",
    "plt.title('Laplacian'), plt.xticks([]), plt.yticks([])\n",
    "plt.show()"
   ]
  }
 ],
 "metadata": {
  "kernelspec": {
   "display_name": "Python 3 (ipykernel)",
   "language": "python",
   "name": "python3"
  },
  "language_info": {
   "codemirror_mode": {
    "name": "ipython",
    "version": 3
   },
   "file_extension": ".py",
   "mimetype": "text/x-python",
   "name": "python",
   "nbconvert_exporter": "python",
   "pygments_lexer": "ipython3",
   "version": "3.9.12"
  }
 },
 "nbformat": 4,
 "nbformat_minor": 5
}
